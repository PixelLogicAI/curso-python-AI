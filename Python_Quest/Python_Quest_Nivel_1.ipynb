{
 "cells": [
  {
   "cell_type": "markdown",
   "id": "fee81809",
   "metadata": {},
   "source": [
    "# 🐍 Python Quest by PixelLogic AI  \n",
    "## 🎯 Nivel 1: Calcula el total de una compra\n",
    "\n",
    "Bienvenido a **Python Quest**, una serie creada por *PixelLogic AI* para aprender programación como si fuera una aventura.\n",
    "\n",
    "**Misión:** Solicitar **precio** y **cantidad**, calcular el **total** y mostrarlo por pantalla.  \n",
    "Completa la misión para ganar tus primeros **XP** en Python. 🚀"
   ]
  },
  {
   "cell_type": "markdown",
   "id": "65eb1203",
   "metadata": {},
   "source": [
    "## 🧭 Objetivos de aprendizaje\n",
    "- Usar **variables** para guardar datos.\n",
    "- Pedir información al usuario con `input()`.\n",
    "- Convertir tipos con `float()` e `int()`.\n",
    "- Operaciones aritméticas y salida con `print()`.\n"
   ]
  },
  {
   "cell_type": "markdown",
   "id": "003b7524",
   "metadata": {},
   "source": [
    "## 🗺️ Tu misión, si decides aceptarla, es:\n",
    "\n",
    "1. Preguntar el **precio** (puede tener decimales).\n",
    "2. Preguntar la **cantidad** (entero).\n",
    "3. Calcular y mostrar el **total**.\n",
    "\n",
    "Ejemplo de ejecución:\n",
    "\n",
    "```\n",
    "Ingresa el precio del producto: 10\n",
    "Ingresa la cantidad a comprar: 3\n",
    "El total a pagar es: 30\n",
    "```"
   ]
  },
  {
   "cell_type": "markdown",
   "id": "6b72b170",
   "metadata": {},
   "source": [
    "## 🧪 Tu turno\n",
    "Escribe tu solución en la celda siguiente:"
   ]
  },
  {
   "cell_type": "code",
   "execution_count": null,
   "id": "7b247d04",
   "metadata": {},
   "outputs": [],
   "source": [
    "# Python Quest - Nivel 1\n",
    "# Paso 1: Pide al usuario el precio (float)\n",
    "# Paso 2: Pide la cantidad (int)\n",
    "# Paso 3: Calcula y muestra el total\n",
    "\n",
    "# Escribe tu solución aquí 👇\n"
   ]
  },
  {
   "cell_type": "markdown",
   "id": "efdabef8",
   "metadata": {},
   "source": [
    "## ✅ Solución guiada\n",
    "Una posible solución es:"
   ]
  },
  {
   "cell_type": "code",
   "execution_count": 1,
   "id": "959c7291",
   "metadata": {},
   "outputs": [
    {
     "name": "stdout",
     "output_type": "stream",
     "text": [
      "El total a pagar es: 0.4\n"
     ]
    }
   ],
   "source": [
    "# Pedimos el precio (decimales) y la cantidad (entero)\n",
    "precio = float(input(\"Ingresa el precio del producto: \"))\n",
    "cantidad = int(input(\"Ingresa la cantidad a comprar: \"))\n",
    "\n",
    "# Calculamos el total\n",
    "total = precio * cantidad\n",
    "\n",
    "# Mostramos el resultado\n",
    "print(\"El total a pagar es:\", total)"
   ]
  },
  {
   "cell_type": "markdown",
   "id": "598b5090",
   "metadata": {},
   "source": [
    "## ⚡ Bonus Quest\n",
    "Si el total es **mayor a 100**, aplica un **10% de descuento** y muestra el nuevo total.\n"
   ]
  },
  {
   "cell_type": "code",
   "execution_count": null,
   "id": "9e786bea",
   "metadata": {},
   "outputs": [],
   "source": [
    "# Bonus Quest: descuento del 10% si total > 100\n",
    "\n",
    "# Tu código aquí 👇\n"
   ]
  },
  {
   "cell_type": "markdown",
   "id": "0981125d",
   "metadata": {},
   "source": [
    "## 📌 Recursos\n",
    "🎓 **Curso completo de PixelLogic AI**  \n",
    "Si este *Python Quest* te gustó, te recomiendo continuar con la\n",
    "\n",
    "**Clase 1 del curso gratuito**\n",
    "\n",
    "👉 [Introducción a Python, variables y tipos de datos](https://PixAI.short.gy/2rG3Va)  \n",
    "\n",
    "💡 Allí encontrarás:  \n",
    "- Explicaciones paso a paso en un notebook interactivo  \n",
    "- Ejercicios guiados para practicar  \n",
    "- Acceso 100% gratuito en Google Colab, con asistencia de IA  \n",
    "\n",
    "Es el mejor punto de partida si estás comenzando tu camino en Python 🚀\n"
   ]
  }
 ],
 "metadata": {
  "kernelspec": {
   "display_name": ".venv",
   "language": "python",
   "name": "python3"
  },
  "language_info": {
   "codemirror_mode": {
    "name": "ipython",
    "version": 3
   },
   "file_extension": ".py",
   "mimetype": "text/x-python",
   "name": "python",
   "nbconvert_exporter": "python",
   "pygments_lexer": "ipython3",
   "version": "3.12.10"
  }
 },
 "nbformat": 4,
 "nbformat_minor": 5
}
