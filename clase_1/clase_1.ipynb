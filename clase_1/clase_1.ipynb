{
 "cells": [
  {
   "cell_type": "markdown",
   "id": "2ab2c85c",
   "metadata": {},
   "source": [
    "# Clase 1: Introducción a Python\n",
    "Bienvenido a la primera clase del curso gratuito de Python con Codex."
   ]
  },
  {
   "cell_type": "markdown",
   "id": "3d01ad76",
   "metadata": {},
   "source": [
    "## Variables y Tipos de Datos\n",
    "Comencemos con algo simple."
   ]
  },
  {
   "cell_type": "code",
   "execution_count": null,
   "id": "72035be9",
   "metadata": {},
   "outputs": [],
   "source": [
    "nombre = 'Washington'\n",
    "edad = 30\n",
    "print(nombre, edad)"
   ]
  },
  {
   "cell_type": "markdown",
   "id": "1866a7e2",
   "metadata": {},
   "source": [
    "## Usa `type()` para inspeccionar tipos"
   ]
  },
  {
   "cell_type": "code",
   "execution_count": null,
   "id": "57b09e97",
   "metadata": {},
   "outputs": [],
   "source": [
    "print(type(nombre))\n",
    "print(type(edad))"
   ]
  },
  {
   "cell_type": "markdown",
   "id": "b41a069e",
   "metadata": {},
   "source": [
    "### ✨ Codex Challenge\n",
    "Escribe un programa que calcule cuántos años tendrás en el 2030."
   ]
  },
  {
   "cell_type": "code",
   "execution_count": null,
   "id": "f98e90a0",
   "metadata": {},
   "outputs": [],
   "source": [
    "# Escribe tu código aquí..."
   ]
  }
 ],
 "metadata": {},
 "nbformat": 4,
 "nbformat_minor": 5
}
