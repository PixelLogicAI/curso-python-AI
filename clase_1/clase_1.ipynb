{
 "cells": [
  {
   "cell_type": "markdown",
   "id": "f7cc8968",
   "metadata": {},
   "source": [
    "# Clase 1: Introducción a Python, variables y tipos de datos\n",
    "Bienvenido a la primera clase del curso de Python con IA.\n",
    "\n",
    "En esta clase aprenderás:\n",
    "- Qué es Python y por qué es tan popular\n",
    "- Cómo declarar variables\n",
    "- Cuáles son los tipos de datos más comunes\n",
    "- Cómo interactuar con el usuario usando `input()`\n",
    "- Cómo usar IA para experimentar con tus propios ejemplos\n"
   ]
  },
  {
   "cell_type": "markdown",
   "id": "1ab2d677",
   "metadata": {},
   "source": [
    "## ¿Qué es Python?\n",
    "Python es un lenguaje de programación de alto nivel, fácil de leer y escribir. Se usa en desarrollo web, análisis de datos, inteligencia artificial, automatización y más."
   ]
  },
  {
   "cell_type": "markdown",
   "id": "efaf1453",
   "metadata": {},
   "source": [
    "## Crear variables"
   ]
  },
  {
   "cell_type": "markdown",
   "id": "04e1b986",
   "metadata": {},
   "source": [
    "## 🧩 ¿Qué es una variable?\n",
    "Una **variable** es un nombre que se usa para guardar información en un programa. Por ejemplo, puedes guardar tu nombre, una edad o el resultado de un cálculo.\n",
    "\n",
    "Ejemplo:\n",
    "```python\n",
    "nombre = \"Lucía\"\n",
    "```"
   ]
  },
  {
   "cell_type": "markdown",
   "id": "db05c332",
   "metadata": {},
   "source": [
    "## 🔢 ¿Qué es un tipo de dato?\n",
    "Los **tipos de datos** indican qué tipo de valor tiene una variable: un número, texto, verdadero/falso, etc.\n",
    "\n",
    "- `str`: texto\n",
    "- `int`: número entero\n",
    "- `float`: número decimal\n",
    "- `bool`: verdadero o falso"
   ]
  },
  {
   "cell_type": "markdown",
   "id": "9e957bf8",
   "metadata": {},
   "source": [
    "## ❓ ¿Por qué crear variables?\n",
    "Porque nos permiten **guardar y reutilizar información**. Son como etiquetas que puedes usar para identificar datos en tu programa."
   ]
  },
  {
   "cell_type": "markdown",
   "id": "271243ec",
   "metadata": {},
   "source": [
    "## 🔄 ¿Qué es la conversión de tipos?\n",
    "Es cambiar un dato de un tipo a otro. Por ejemplo, cuando el usuario ingresa un número, Python lo guarda como texto (`str`). Para poder hacer cálculos, hay que convertirlo a número (`int` o `float`).\n",
    "\n",
    "Ejemplo:\n",
    "```python\n",
    "altura = float(\"1.75\")  # Convierte el texto \"1.75\" a número decimal\n",
    "```"
   ]
  },
  {
   "cell_type": "code",
   "execution_count": null,
   "id": "b4cfb050",
   "metadata": {},
   "outputs": [],
   "source": [
    "nombre = \"Ana\"\n",
    "edad = 25\n",
    "print(nombre)\n",
    "print(edad)"
   ]
  },
  {
   "cell_type": "markdown",
   "id": "a0e549a0",
   "metadata": {},
   "source": [
    "## Tipos de datos"
   ]
  },
  {
   "cell_type": "code",
   "execution_count": null,
   "id": "9b13b7e5",
   "metadata": {},
   "outputs": [],
   "source": [
    "print(type(nombre))\n",
    "print(type(edad))"
   ]
  },
  {
   "cell_type": "markdown",
   "id": "4d670e39",
   "metadata": {},
   "source": [
    "## Conversión de tipos"
   ]
  },
  {
   "cell_type": "code",
   "execution_count": null,
   "id": "91727b73",
   "metadata": {},
   "outputs": [],
   "source": [
    "# altura_str es un texto que representa un número decimal\n",
    "altura_str = \"1.75\"\n",
    "# Convertimos el texto a número decimal (float) para poder hacer operaciones numéricas\n",
    "altura = float(altura_str)\n",
    "print(altura)\n",
    "print(type(altura))"
   ]
  },
  {
   "cell_type": "markdown",
   "id": "e955d6e2",
   "metadata": {},
   "source": [
    "## Interacción con el usuario"
   ]
  },
  {
   "cell_type": "code",
   "execution_count": null,
   "id": "118a818b",
   "metadata": {},
   "outputs": [],
   "source": [
    "nombre = input(\"¿Cuál es tu nombre?: \")\n",
    "edad = input(\"¿Cuántos años tienes?: \")\n",
    "print(\"Hola\", nombre, \"- Tienes\", edad, \"años\")"
   ]
  },
  {
   "cell_type": "markdown",
   "id": "8f1e7c10",
   "metadata": {},
   "source": [
    "## Ejercicios guiados"
   ]
  },
  {
   "cell_type": "code",
   "execution_count": null,
   "id": "151f33b3",
   "metadata": {},
   "outputs": [],
   "source": [
    "# Mostrar el tipo de cada variable\n",
    "print(\"Tipo de 'nombre':\", type(nombre))\n",
    "print(\"Tipo de 'edad':\", type(edad))"
   ]
  },
  {
   "cell_type": "code",
   "execution_count": null,
   "id": "91bc0ae1",
   "metadata": {},
   "outputs": [],
   "source": [
    "# Intentar convertir edad a número\n",
    "try:\n",
    "    edad = int(edad)\n",
    "    print(\"Edad convertida a entero:\", edad)\n",
    "except ValueError:\n",
    "    print(\"Por favor, ingresa un número válido para la edad.\")"
   ]
  },
  {
   "cell_type": "markdown",
   "id": "d74bd5ae",
   "metadata": {},
   "source": [
    "## Actividad con IA"
   ]
  },
  {
   "cell_type": "markdown",
   "id": "015794b0",
   "metadata": {},
   "source": [
    "💡 **Desafío**: Pide al usuario su nombre, edad y ciudad, y luego imprime un saludo como este:\n",
    "`Hola Ana, de 25 años, que vive en Quito. ¡Bienvenida al mundo de Python!`\n",
    "\n",
    "Experimenta con IA para escribir y mejorar tu código."
   ]
  }
 ],
 "metadata": {},
 "nbformat": 4,
 "nbformat_minor": 5
}
